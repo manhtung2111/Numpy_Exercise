{
 "cells": [
  {
   "cell_type": "code",
   "execution_count": 1,
   "metadata": {},
   "outputs": [],
   "source": [
    "import numpy as np"
   ]
  },
  {
   "cell_type": "code",
   "execution_count": 2,
   "metadata": {},
   "outputs": [],
   "source": [
    "arr = np.random.rand(5,5)"
   ]
  },
  {
   "cell_type": "code",
   "execution_count": 3,
   "metadata": {},
   "outputs": [
    {
     "name": "stdout",
     "output_type": "stream",
     "text": [
      "[[10.61796097 10.67193616 10.80438027 10.92380656 10.97297291]\n",
      " [10.80150932 10.77125163 10.67361733 10.14622632 10.88223263]\n",
      " [10.58181669 10.31298261 10.01692884 10.20471832 10.01316235]\n",
      " [10.53746395 10.14268875 10.98438572 10.91102588 10.77816703]\n",
      " [10.97588187 10.24355781 10.42899085 10.75856861 10.35639612]]\n",
      "[[-9.38203903 -9.32806384 -9.19561973 -9.07619344 -9.02702709]\n",
      " [-9.19849068 -9.22874837 -9.32638267 -9.85377368 -9.11776737]\n",
      " [-9.41818331 -9.68701739 -9.98307116 -9.79528168 -9.98683765]\n",
      " [-9.46253605 -9.85731125 -9.01561428 -9.08897412 -9.22183297]\n",
      " [-9.02411813 -9.75644219 -9.57100915 -9.24143139 -9.64360388]]\n",
      "[[6.17960974 6.71936157 8.04380275 9.23806556 9.7297291 ]\n",
      " [8.01509317 7.71251633 6.73617334 1.46226324 8.82232632]\n",
      " [5.81816691 3.12982613 0.16928836 2.04718322 0.13162353]\n",
      " [5.37463947 1.42688749 9.84385724 9.11025877 7.78167029]\n",
      " [9.75881874 2.4355781  4.28990853 7.58568613 3.56396117]]\n",
      "[[0.0617961  0.06719362 0.08043803 0.09238066 0.09729729]\n",
      " [0.08015093 0.07712516 0.06736173 0.01462263 0.08822326]\n",
      " [0.05818167 0.03129826 0.00169288 0.02047183 0.00131624]\n",
      " [0.05374639 0.01426887 0.09843857 0.09110259 0.0778167 ]\n",
      " [0.09758819 0.02435578 0.04289909 0.07585686 0.03563961]]\n"
     ]
    }
   ],
   "source": [
    "print(arr+10)\n",
    "print(arr-10)\n",
    "print(arr*10)\n",
    "print(arr/10)"
   ]
  },
  {
   "cell_type": "code",
   "execution_count": 6,
   "metadata": {},
   "outputs": [
    {
     "name": "stdout",
     "output_type": "stream",
     "text": [
      "[ 7  9 11]\n",
      "[-1  0  1]\n",
      "[-1  0  3]\n"
     ]
    }
   ],
   "source": [
    "arr1 = np.array([1,2,3])\n",
    "np.add(arr1,[6,7,8], out = arr1)\n",
    "print(arr1)\n",
    "np.subtract(arr1,[8,9,10],out=arr1)\n",
    "print(arr1)\n",
    "np.multiply(arr1,[1,2,3],out=arr1)\n",
    "print(arr1)"
   ]
  },
  {
   "cell_type": "code",
   "execution_count": 7,
   "metadata": {},
   "outputs": [
    {
     "name": "stdout",
     "output_type": "stream",
     "text": [
      "[[1.8551415  1.9580247  2.23531079 2.51886035 2.6457985 ]\n",
      " [2.22890251 2.16247118 1.96131925 1.15745812 2.41628837]\n",
      " [1.78928606 1.36749775 1.01707294 1.22717935 1.01324936]\n",
      " [1.71166049 1.15337076 2.67616747 2.48687245 2.17747735]\n",
      " [2.65350624 1.27578007 1.53570699 2.13521771 1.42817316]]\n"
     ]
    }
   ],
   "source": [
    "print(np.exp(arr))"
   ]
  },
  {
   "cell_type": "code",
   "execution_count": 8,
   "metadata": {},
   "outputs": [
    {
     "name": "stdout",
     "output_type": "stream",
     "text": [
      "[[-0.48132997 -0.39759195 -0.21768314 -0.07925258 -0.02739904]\n",
      " [-0.22125868 -0.25974059 -0.39509308 -1.92259969 -0.1252995 ]\n",
      " [-0.54159984 -1.16160764 -4.07873686 -1.58612028 -4.33039458]\n",
      " [-0.6208936  -1.9470896  -0.01573746 -0.09318398 -0.25081409]\n",
      " [-0.02441373 -1.41240095 -0.84631968 -0.27632203 -1.03171248]]\n"
     ]
    }
   ],
   "source": [
    "print(np.log(arr))"
   ]
  },
  {
   "cell_type": "code",
   "execution_count": 9,
   "metadata": {},
   "outputs": [
    {
     "name": "stdout",
     "output_type": "stream",
     "text": [
      "[[-0.69441236 -0.57360393 -0.31405039 -0.11433731 -0.03952846]\n",
      " [-0.3192088  -0.37472646 -0.56999883 -2.77372504 -0.18076897]\n",
      " [-0.78136341 -1.67584558 -5.88437344 -2.28828787 -6.24743879]\n",
      " [-0.89576011 -2.80905651 -0.02270436 -0.13443606 -0.36184824]\n",
      " [-0.03522157 -2.03766385 -1.22098121 -0.39864842 -1.48844648]]\n"
     ]
    }
   ],
   "source": [
    "print(np.log2(arr))"
   ]
  },
  {
   "cell_type": "code",
   "execution_count": 10,
   "metadata": {},
   "outputs": [
    {
     "name": "stdout",
     "output_type": "stream",
     "text": [
      "[[-0.20903895 -0.17267199 -0.09453859 -0.03441896 -0.01189925]\n",
      " [-0.09609142 -0.1128039  -0.17158675 -0.83497444 -0.05441688]\n",
      " [-0.23521382 -0.50447979 -1.77137291 -0.68884329 -1.88066647]\n",
      " [-0.26965066 -0.84561027 -0.00683469 -0.04046929 -0.10892717]\n",
      " [-0.01060275 -0.61339794 -0.36755197 -0.12000513 -0.44806704]]\n"
     ]
    }
   ],
   "source": [
    "print(np.log10(arr))"
   ]
  },
  {
   "cell_type": "code",
   "execution_count": 11,
   "metadata": {},
   "outputs": [
    {
     "name": "stdout",
     "output_type": "stream",
     "text": [
      "[[0.78610494 0.81971712 0.8968725  0.96114856 0.98639389]\n",
      " [0.89527053 0.87820933 0.82074194 0.38239551 0.93927239]\n",
      " [0.76276909 0.55944849 0.13011086 0.45245809 0.1147273 ]\n",
      " [0.73311933 0.37774164 0.99216215 0.95447676 0.88213776]\n",
      " [0.98786734 0.49351577 0.65497393 0.87095844 0.59698921]]\n"
     ]
    }
   ],
   "source": [
    "print(np.sqrt(arr))"
   ]
  },
  {
   "cell_type": "code",
   "execution_count": 12,
   "metadata": {},
   "outputs": [
    {
     "name": "stdout",
     "output_type": "stream",
     "text": [
      "[[0.57937443 0.62250242 0.72040097 0.79790194 0.82656265]\n",
      " [0.71840682 0.69703325 0.62381726 0.14570578 0.77215948]\n",
      " [0.54954263 0.30789772 0.01692803 0.20329137 0.01316197]\n",
      " [0.51195915 0.14220505 0.83293232 0.79013295 0.70197515]\n",
      " [0.82819645 0.24115695 0.41595331 0.68788322 0.34889909]]\n"
     ]
    }
   ],
   "source": [
    "print(np.sin(arr))"
   ]
  },
  {
   "cell_type": "code",
   "execution_count": 14,
   "metadata": {},
   "outputs": [
    {
     "name": "stdout",
     "output_type": "stream",
     "text": [
      "[[0.81506151 0.78261787 0.69355782 0.60278727 0.56284473]\n",
      " [0.6956232  0.7170388  0.78157023 0.98932797 0.63542878]\n",
      " [0.83546568 0.95141946 0.99985671 0.97911829 0.99991338]\n",
      " [0.8590098  0.98983722 0.55337487 0.61293549 0.71220143]\n",
      " [0.56043791 0.97048613 0.90938597 0.72582138 0.9371603 ]]\n"
     ]
    }
   ],
   "source": [
    "print(np.cos(arr))"
   ]
  },
  {
   "cell_type": "code",
   "execution_count": 15,
   "metadata": {},
   "outputs": [
    {
     "name": "stdout",
     "output_type": "stream",
     "text": [
      "[3.5146328  2.14241696 2.90830302 2.94434569 3.00293104]\n"
     ]
    }
   ],
   "source": [
    "print(np.sum(arr, axis=0))"
   ]
  },
  {
   "cell_type": "code",
   "execution_count": 16,
   "metadata": {},
   "outputs": [
    {
     "name": "stdout",
     "output_type": "stream",
     "text": [
      "[3.99105687 3.27483724 1.12960881 3.35373133 2.76339527]\n"
     ]
    }
   ],
   "source": [
    "print(np.sum(arr, axis=1))"
   ]
  },
  {
   "cell_type": "code",
   "execution_count": 17,
   "metadata": {},
   "outputs": [
    {
     "name": "stdout",
     "output_type": "stream",
     "text": [
      "0.9843857243430008\n"
     ]
    }
   ],
   "source": [
    "print(np.max(arr))"
   ]
  },
  {
   "cell_type": "code",
   "execution_count": 18,
   "metadata": {},
   "outputs": [
    {
     "name": "stdout",
     "output_type": "stream",
     "text": [
      "0.013162352825361379\n"
     ]
    }
   ],
   "source": [
    "print(np.min(arr))"
   ]
  },
  {
   "cell_type": "code",
   "execution_count": 19,
   "metadata": {},
   "outputs": [
    {
     "name": "stdout",
     "output_type": "stream",
     "text": [
      "[0 3 4 1 1]\n",
      "[4 4 0 2 0]\n"
     ]
    }
   ],
   "source": [
    "print(np.argmin(arr, axis=1))\n",
    "print(np.argmax(arr, axis=1))"
   ]
  },
  {
   "cell_type": "code",
   "execution_count": 20,
   "metadata": {},
   "outputs": [
    {
     "name": "stdout",
     "output_type": "stream",
     "text": [
      "14\n",
      "17\n"
     ]
    }
   ],
   "source": [
    "print(np.argmin(arr))\n",
    "print(np.argmax(arr))"
   ]
  },
  {
   "cell_type": "code",
   "execution_count": 21,
   "metadata": {},
   "outputs": [
    {
     "name": "stdout",
     "output_type": "stream",
     "text": [
      "[1 4 5 8 9]\n",
      "[0 3 3 7 7]\n"
     ]
    }
   ],
   "source": [
    "arr1 = np.array([1, 3, 5, 7, 9])\n",
    "arr2 = np.array([0, 4, 3, 8, 7])\n",
    "print(np.maximum(arr1, arr2))\n",
    "print(np.minimum(arr1, arr2))"
   ]
  },
  {
   "cell_type": "code",
   "execution_count": 22,
   "metadata": {},
   "outputs": [
    {
     "name": "stdout",
     "output_type": "stream",
     "text": [
      "fractional:  [0.46904469 0.80986919 0.64114033 0.44628919 0.38228313 0.8626671\n",
      " 0.95519311 0.22779076 0.35543707 0.42682385]\n",
      "integral:  [8. 4. 0. 0. 2. 0. 3. 1. 5. 6.]\n"
     ]
    }
   ],
   "source": [
    "arr1 = np.random.rand(10) * 10\n",
    "re, intg = np.modf(arr1)\n",
    "print('fractional: ', re)\n",
    "print('integral: ', intg)"
   ]
  },
  {
   "cell_type": "code",
   "execution_count": 23,
   "metadata": {},
   "outputs": [
    {
     "name": "stdout",
     "output_type": "stream",
     "text": [
      "0.5805051807591648\n"
     ]
    }
   ],
   "source": [
    "print(np.mean(arr))"
   ]
  },
  {
   "cell_type": "code",
   "execution_count": 24,
   "metadata": {},
   "outputs": [
    {
     "name": "stdout",
     "output_type": "stream",
     "text": [
      "[0.70292656 0.42848339 0.5816606  0.58886914 0.60058621]\n"
     ]
    }
   ],
   "source": [
    "print(np.mean(arr, axis = 0))"
   ]
  },
  {
   "cell_type": "code",
   "execution_count": 25,
   "metadata": {},
   "outputs": [
    {
     "name": "stdout",
     "output_type": "stream",
     "text": [
      "[0.79821137 0.65496745 0.22592176 0.67074627 0.55267905]\n"
     ]
    }
   ],
   "source": [
    "print(np.mean(arr, axis=1))"
   ]
  },
  {
   "cell_type": "code",
   "execution_count": 26,
   "metadata": {},
   "outputs": [
    {
     "name": "stdout",
     "output_type": "stream",
     "text": [
      "0.6719361568082981\n"
     ]
    }
   ],
   "source": [
    "print(np.median(arr))"
   ]
  },
  {
   "cell_type": "code",
   "execution_count": 27,
   "metadata": {},
   "outputs": [
    {
     "name": "stdout",
     "output_type": "stream",
     "text": [
      "[0.61796097 0.31298261 0.67361733 0.75856861 0.77816703]\n"
     ]
    }
   ],
   "source": [
    "print(np.median(arr, axis = 0))"
   ]
  },
  {
   "cell_type": "code",
   "execution_count": 28,
   "metadata": {},
   "outputs": [
    {
     "name": "stdout",
     "output_type": "stream",
     "text": [
      "[0.80438027 0.77125163 0.20471832 0.77816703 0.42899085]\n"
     ]
    }
   ],
   "source": [
    "print(np.median(arr, axis = 1))"
   ]
  },
  {
   "cell_type": "code",
   "execution_count": 29,
   "metadata": {},
   "outputs": [
    {
     "name": "stdout",
     "output_type": "stream",
     "text": [
      "[0.02577145 0.07152934]\n"
     ]
    }
   ],
   "source": [
    "arr1 = np.random.rand(100)\n",
    "print(np.percentile(arr1,[1.4,5]))"
   ]
  },
  {
   "cell_type": "code",
   "execution_count": 30,
   "metadata": {},
   "outputs": [
    {
     "name": "stdout",
     "output_type": "stream",
     "text": [
      "0.31223706153821\n"
     ]
    }
   ],
   "source": [
    "print(np.std(arr))"
   ]
  },
  {
   "cell_type": "code",
   "execution_count": 31,
   "metadata": {},
   "outputs": [
    {
     "name": "stdout",
     "output_type": "stream",
     "text": [
      "0.09749198259801595\n"
     ]
    }
   ],
   "source": [
    "print(np.var(arr))"
   ]
  },
  {
   "cell_type": "code",
   "execution_count": 32,
   "metadata": {},
   "outputs": [
    {
     "name": "stdout",
     "output_type": "stream",
     "text": [
      "[0.02669756 0.06119516 0.11249553 0.11765409 0.13084542]\n"
     ]
    }
   ],
   "source": [
    "print(np.var(arr, axis = 0))"
   ]
  },
  {
   "cell_type": "code",
   "execution_count": 33,
   "metadata": {},
   "outputs": [
    {
     "name": "stdout",
     "output_type": "stream",
     "text": [
      "[0.01895789 0.06916227 0.044727   0.09285043 0.07417457]\n"
     ]
    }
   ],
   "source": [
    "print(np.var(arr, axis = 1))"
   ]
  },
  {
   "cell_type": "code",
   "execution_count": 34,
   "metadata": {},
   "outputs": [],
   "source": [
    "arr = np.random.rand(5,10)"
   ]
  },
  {
   "cell_type": "code",
   "execution_count": 36,
   "metadata": {},
   "outputs": [
    {
     "name": "stdout",
     "output_type": "stream",
     "text": [
      "[[ 0.09407014 -0.01435005  0.03241169 -0.02273354  0.068559  ]\n",
      " [-0.01435005  0.11667061 -0.06718683  0.0720076  -0.02429362]\n",
      " [ 0.03241169 -0.06718683  0.10627443 -0.01895748  0.0377766 ]\n",
      " [-0.02273354  0.0720076  -0.01895748  0.12019311 -0.01425255]\n",
      " [ 0.068559   -0.02429362  0.0377766  -0.01425255  0.08541144]]\n"
     ]
    }
   ],
   "source": [
    "print(np.cov(arr))"
   ]
  },
  {
   "cell_type": "code",
   "execution_count": 37,
   "metadata": {},
   "outputs": [
    {
     "name": "stdout",
     "output_type": "stream",
     "text": [
      "[[1.         0.46461022]\n",
      " [0.46461022 1.        ]]\n"
     ]
    }
   ],
   "source": [
    "print(np.corrcoef(arr[:,0], arr[:,1]))"
   ]
  },
  {
   "cell_type": "code",
   "execution_count": 38,
   "metadata": {},
   "outputs": [
    {
     "name": "stdout",
     "output_type": "stream",
     "text": [
      "[[0.27892692 0.85790988 0.97738888 0.23887045 0.57057242 0.91097591\n",
      "  0.27510312 0.70036051 0.28712271 0.90511485]\n",
      " [0.78669144 1.78342634 1.46546695 1.11538919 1.56935857 0.99718217\n",
      "  0.33841202 1.48402102 0.95696251 1.1769236 ]\n",
      " [1.78097846 2.68102229 1.96956415 1.36814676 1.66503504 1.95339762\n",
      "  1.03543663 1.90981211 1.26899634 2.05759598]\n",
      " [2.61230829 3.50086398 2.09649959 1.73148418 2.53051954 2.4588572\n",
      "  1.05156813 2.52760162 2.26711604 2.25176017]\n",
      " [2.8147453  4.23597786 2.53111993 1.74702615 3.14332226 3.31846492\n",
      "  1.54961881 3.19244759 2.31436752 2.89323244]]\n"
     ]
    }
   ],
   "source": [
    "print(np.cumsum(arr, axis=0))"
   ]
  },
  {
   "cell_type": "code",
   "execution_count": 39,
   "metadata": {},
   "outputs": [
    {
     "name": "stdout",
     "output_type": "stream",
     "text": [
      "[[0.27892692 1.1368368  2.11422568 2.35309612 2.92366854 3.83464446\n",
      "  4.10974758 4.81010809 5.0972308  6.00234565]\n",
      " [0.50776452 1.43328099 1.92135906 2.7978778  3.79666395 3.88287021\n",
      "  3.9461791  4.72983961 5.39967941 5.67148816]\n",
      " [0.99428702 1.89188297 2.39598016 2.64873773 2.74441419 3.70062964\n",
      "  4.39765425 4.82344534 5.13547917 6.01615156]\n",
      " [0.83132983 1.65117151 1.77810696 2.14144438 3.00692889 3.51238847\n",
      "  3.52851997 4.14630948 5.14442918 5.33859336]\n",
      " [0.20243701 0.93755089 1.37217123 1.38771319 2.00051591 2.86012364\n",
      "  3.35817432 4.02302029 4.07027177 4.71174404]]\n"
     ]
    }
   ],
   "source": [
    "print(np.cumsum(arr, axis=1))"
   ]
  },
  {
   "cell_type": "code",
   "execution_count": 40,
   "metadata": {},
   "outputs": [
    {
     "name": "stdout",
     "output_type": "stream",
     "text": [
      "[[2.78926917e-01 8.57909880e-01 9.77388879e-01 2.38870446e-01\n",
      "  5.70572423e-01 9.10975912e-01 2.75103124e-01 7.00360506e-01\n",
      "  2.87122708e-01 9.05114853e-01]\n",
      " [1.41629193e-01 7.94009718e-01 4.77042083e-01 2.09374422e-01\n",
      "  5.69879834e-01 7.85318219e-02 1.74164748e-02 5.48844871e-01\n",
      "  1.92326218e-01 2.46018132e-01]\n",
      " [1.40820068e-01 7.12699905e-01 2.40475575e-01 5.29209708e-02\n",
      "  5.45240861e-02 7.50933413e-02 1.21397115e-02 2.33693259e-01\n",
      "  6.00122863e-02 2.16661375e-01]\n",
      " [1.17067923e-01 5.84301092e-01 3.05248738e-02 1.92281693e-02\n",
      "  4.71897516e-02 3.79566489e-02 1.95831815e-04 1.44373244e-01\n",
      "  5.98994449e-02 4.20678789e-02]\n",
      " [2.36988802e-02 4.29527843e-01 1.32667310e-02 2.98843548e-04\n",
      "  2.89180082e-02 3.26278286e-02 9.75341686e-05 9.59859690e-02\n",
      "  2.83033752e-03 2.69853779e-02]]\n"
     ]
    }
   ],
   "source": [
    "print(np.cumprod(arr, axis=0))"
   ]
  },
  {
   "cell_type": "code",
   "execution_count": 41,
   "metadata": {},
   "outputs": [
    {
     "name": "stdout",
     "output_type": "stream",
     "text": [
      "[[2.78926917e-01 2.39294158e-01 2.33883448e-01 5.58678437e-02\n",
      "  3.18766509e-02 2.90388611e-02 7.98868143e-03 5.59495697e-03\n",
      "  1.60643920e-03 1.45401198e-03]\n",
      " [5.07764524e-01 4.69944426e-01 2.29369571e-01 2.01046727e-01\n",
      "  2.00802687e-01 1.73104477e-02 1.09590531e-03 8.58817714e-04\n",
      "  5.75270287e-04 1.56363495e-04]\n",
      " [9.94287018e-01 8.92467998e-01 4.49890612e-01 1.13713259e-01\n",
      "  1.08796823e-02 1.04033203e-02 7.25137022e-03 3.08756887e-03\n",
      "  9.63425938e-04 8.48462619e-04]\n",
      " [8.31329828e-01 6.81558849e-01 8.65139750e-02 3.14337649e-02\n",
      "  2.72054364e-02 1.37512485e-02 2.21828333e-04 1.37043217e-04\n",
      "  1.36785534e-04 2.65588514e-05]\n",
      " [2.02437010e-01 1.48814255e-01 6.46777019e-02 1.00521863e-03\n",
      "  6.16000709e-04 5.29518969e-04 2.63727282e-04 1.75338020e-04\n",
      "  8.28498123e-06 5.31458574e-06]]\n"
     ]
    }
   ],
   "source": [
    "print(np.cumprod(arr, axis=1))"
   ]
  },
  {
   "cell_type": "code",
   "execution_count": 42,
   "metadata": {},
   "outputs": [],
   "source": [
    "arr1 = np.array([1,2,3,4,5])\n",
    "arr2 = np.array([6,7,8,9,10])"
   ]
  },
  {
   "cell_type": "code",
   "execution_count": 43,
   "metadata": {},
   "outputs": [
    {
     "name": "stdout",
     "output_type": "stream",
     "text": [
      "[False False False False False]\n",
      "[ True  True  True  True  True]\n"
     ]
    }
   ],
   "source": [
    "print(arr1 == arr2)\n",
    "print(arr2 > 5)"
   ]
  },
  {
   "cell_type": "code",
   "execution_count": null,
   "metadata": {},
   "outputs": [],
   "source": []
  }
 ],
 "metadata": {
  "kernelspec": {
   "display_name": "Python 3",
   "language": "python",
   "name": "python3"
  },
  "language_info": {
   "codemirror_mode": {
    "name": "ipython",
    "version": 3
   },
   "file_extension": ".py",
   "mimetype": "text/x-python",
   "name": "python",
   "nbconvert_exporter": "python",
   "pygments_lexer": "ipython3",
   "version": "3.7.6"
  }
 },
 "nbformat": 4,
 "nbformat_minor": 4
}
